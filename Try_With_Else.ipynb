{
 "cells": [
  {
   "cell_type": "code",
   "execution_count": 3,
   "id": "24dff780",
   "metadata": {},
   "outputs": [
    {
     "name": "stdout",
     "output_type": "stream",
     "text": [
      "Enter a number:-ig\n",
      "invalid literal for int() with base 10: 'ig'\n"
     ]
    }
   ],
   "source": [
    "try:\n",
    "    i = int(input(\"Enter a number:-\"))\n",
    "    c = 1/i\n",
    "except Exception as e:\n",
    "    print(e)\n",
    "    \n",
    "else:\n",
    "    print(\"We areSucessful\")"
   ]
  },
  {
   "cell_type": "code",
   "execution_count": 4,
   "id": "a46098a2",
   "metadata": {},
   "outputs": [
    {
     "name": "stdout",
     "output_type": "stream",
     "text": [
      "Enter a number:-4\n",
      "We areSucessful\n"
     ]
    }
   ],
   "source": [
    "try:\n",
    "    i = int(input(\"Enter a number:-\"))\n",
    "    c = 1/i\n",
    "except Exception as e:\n",
    "    print(e)\n",
    "    \n",
    "else:\n",
    "    print(\"We areSucessful\")"
   ]
  },
  {
   "cell_type": "code",
   "execution_count": null,
   "id": "eab27936",
   "metadata": {},
   "outputs": [],
   "source": []
  }
 ],
 "metadata": {
  "kernelspec": {
   "display_name": "Python 3 (ipykernel)",
   "language": "python",
   "name": "python3"
  },
  "language_info": {
   "codemirror_mode": {
    "name": "ipython",
    "version": 3
   },
   "file_extension": ".py",
   "mimetype": "text/x-python",
   "name": "python",
   "nbconvert_exporter": "python",
   "pygments_lexer": "ipython3",
   "version": "3.9.7"
  }
 },
 "nbformat": 4,
 "nbformat_minor": 5
}
